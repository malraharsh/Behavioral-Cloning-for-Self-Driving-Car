{
  "nbformat": 4,
  "nbformat_minor": 0,
  "metadata": {
    "accelerator": "GPU",
    "colab": {
      "name": "Pruning Experiments-on-DogsvsCats",
      "provenance": [],
      "collapsed_sections": [],
      "include_colab_link": true
    },
    "kernelspec": {
      "display_name": "Python 3",
      "name": "python3"
    }
  },
  "cells": [
    {
      "cell_type": "markdown",
      "metadata": {
        "id": "view-in-github",
        "colab_type": "text"
      },
      "source": [
        "<a href=\"https://colab.research.google.com/github/malraharsh/Behavioral-Cloning-for-Self-Driving-Car/blob/master/Pruning_Experiments_on_DogsvsCats.ipynb\" target=\"_parent\"><img src=\"https://colab.research.google.com/assets/colab-badge.svg\" alt=\"Open In Colab\"/></a>"
      ]
    },
    {
      "cell_type": "code",
      "metadata": {
        "colab_type": "code",
        "id": "yJwIonXEVJo6",
        "colab": {
          "base_uri": "https://localhost:8080/",
          "height": 54
        },
        "outputId": "d2340a58-de16-4756-ed9e-901911693f85"
      },
      "source": [
        "! pip install -q tensorflow-model-optimization\n",
        "\n",
        "import tempfile\n",
        "import os\n",
        "\n",
        "import tensorflow as tf\n",
        "import numpy as np\n",
        "\n",
        "from sklearn.model_selection import train_test_split\n",
        "import pandas as pd\n",
        "\n",
        "\n",
        "from tensorflow.keras import datasets, layers, models\n",
        "import matplotlib.pyplot as plt\n",
        "\n",
        "from tensorflow import keras\n",
        "import datetime\n",
        "\n",
        "%load_ext tensorboard\n",
        "\n",
        "import tensorflow_model_optimization as tfmot\n",
        "from tensorflow_model_optimization.sparsity.keras import prune_low_magnitude, ConstantSparsity\n",
        "\n",
        "from tensorflow.keras.models import Sequential\n",
        "from tensorflow.keras.layers import Dense, Conv2D, Flatten, Dropout, MaxPooling2D\n",
        "from tensorflow.keras.preprocessing.image import ImageDataGenerator\n",
        "\n",
        "import os\n",
        "import numpy as np\n",
        "import matplotlib.pyplot as plt\n",
        "\n",
        "\n",
        "\n",
        "from IPython.display import display\n",
        "\n",
        "SHOW = False"
      ],
      "execution_count": 106,
      "outputs": [
        {
          "output_type": "stream",
          "text": [
            "The tensorboard extension is already loaded. To reload it, use:\n",
            "  %reload_ext tensorboard\n"
          ],
          "name": "stdout"
        }
      ]
    },
    {
      "cell_type": "code",
      "metadata": {
        "id": "EJo71bj08Rg7",
        "colab_type": "code",
        "colab": {}
      },
      "source": [
        "def makedir(path):\n",
        "    os.makedirs(path, exist_ok=True)"
      ],
      "execution_count": 103,
      "outputs": []
    },
    {
      "cell_type": "code",
      "metadata": {
        "id": "L68f061j9hSv",
        "colab_type": "code",
        "colab": {}
      },
      "source": [
        "log_train = 'logs/train/'\n",
        "log_prune = 'logs/prune/'\n",
        "\n",
        "makedir(log_train)\n",
        "makedir(log_prune)"
      ],
      "execution_count": 105,
      "outputs": []
    },
    {
      "cell_type": "code",
      "metadata": {
        "id": "gcujQblxeibt",
        "colab_type": "code",
        "colab": {}
      },
      "source": [
        "#https://www.tensorflow.org/tutorials/images/classification\n",
        "\n",
        "_URL = 'https://storage.googleapis.com/mledu-datasets/cats_and_dogs_filtered.zip'\n",
        "\n",
        "path_to_zip = tf.keras.utils.get_file('cats_and_dogs.zip', origin=_URL, extract=True)\n",
        "\n",
        "PATH = os.path.join(os.path.dirname(path_to_zip), 'cats_and_dogs_filtered')"
      ],
      "execution_count": null,
      "outputs": []
    },
    {
      "cell_type": "code",
      "metadata": {
        "id": "ITOzKXSXetVm",
        "colab_type": "code",
        "colab": {}
      },
      "source": [
        "# train_dir = os.path.join(PATH, 'train')\n",
        "# validation_dir = os.path.join(PATH, 'validation')\n",
        "train_dir = os.path.join(PATH, 'validation')\n",
        "validation_dir = os.path.join(PATH, 'train')\n",
        "\n",
        "train_cats_dir = os.path.join(train_dir, 'cats')  # directory with our training cat pictures\n",
        "train_dogs_dir = os.path.join(train_dir, 'dogs')  # directory with our training dog pictures\n",
        "validation_cats_dir = os.path.join(validation_dir, 'cats')  # directory with our validation cat pictures\n",
        "validation_dogs_dir = os.path.join(validation_dir, 'dogs')  # directory with our validation dog pictures\n",
        "\n",
        "num_cats_tr = len(os.listdir(train_cats_dir))\n",
        "num_dogs_tr = len(os.listdir(train_dogs_dir))\n",
        "\n",
        "num_cats_val = len(os.listdir(validation_cats_dir))\n",
        "num_dogs_val = len(os.listdir(validation_dogs_dir))\n",
        "\n",
        "total_train = num_cats_tr + num_dogs_tr\n",
        "total_val = num_cats_val + num_dogs_val"
      ],
      "execution_count": 128,
      "outputs": []
    },
    {
      "cell_type": "code",
      "metadata": {
        "id": "PCL4dwnffjya",
        "colab_type": "code",
        "colab": {
          "base_uri": "https://localhost:8080/",
          "height": 54
        },
        "outputId": "ce1e1f70-2255-4126-d8ab-d27e3b728299"
      },
      "source": [
        "batch_size = 128\n",
        "epochs = 15\n",
        "IMG_HEIGHT = 150\n",
        "IMG_WIDTH = 150\n",
        "\n",
        "train_image_generator = ImageDataGenerator(\n",
        "                    rescale=1./255,\n",
        "                    rotation_range=45,\n",
        "                    width_shift_range=.15,\n",
        "                    height_shift_range=.15,\n",
        "                    horizontal_flip=True,\n",
        "                    zoom_range=0.5)\n",
        "\n",
        "validation_image_generator = ImageDataGenerator(rescale=1./255) # Generator for our validation data\n",
        "\n",
        "\n",
        "train_data_gen = train_image_generator.flow_from_directory(batch_size=batch_size,\n",
        "                                                           directory=train_dir,\n",
        "                                                           shuffle=True,\n",
        "                                                           target_size=(IMG_HEIGHT, IMG_WIDTH),\n",
        "                                                           class_mode='binary')\n",
        "\n",
        "val_data_gen = validation_image_generator.flow_from_directory(batch_size=batch_size,\n",
        "                                                              directory=validation_dir,\n",
        "                                                              target_size=(IMG_HEIGHT, IMG_WIDTH),\n",
        "                                                              class_mode='binary')"
      ],
      "execution_count": 129,
      "outputs": [
        {
          "output_type": "stream",
          "text": [
            "Found 1000 images belonging to 2 classes.\n",
            "Found 2000 images belonging to 2 classes.\n"
          ],
          "name": "stdout"
        }
      ]
    },
    {
      "cell_type": "code",
      "metadata": {
        "id": "oijzVlV7mYtc",
        "colab_type": "code",
        "colab": {}
      },
      "source": [
        "def get_train_model():\n",
        "\n",
        "    model = Sequential([\n",
        "    Conv2D(16, 3, padding='same', activation='relu', input_shape=(IMG_HEIGHT, IMG_WIDTH ,3)),\n",
        "    MaxPooling2D(),\n",
        "    Conv2D(32, 3, padding='same', activation='relu'),\n",
        "    MaxPooling2D(),\n",
        "    Conv2D(64, 3, padding='same', activation='relu'),\n",
        "    MaxPooling2D(),\n",
        "    Flatten(),\n",
        "    Dense(512, activation='relu'),\n",
        "    Dense(1)])\n",
        "\n",
        "    model.compile(optimizer='adam',\n",
        "                loss=tf.keras.losses.BinaryCrossentropy(from_logits=True),\n",
        "                metrics=['accuracy'])\n",
        "    \n",
        "    return model"
      ],
      "execution_count": null,
      "outputs": []
    },
    {
      "cell_type": "code",
      "metadata": {
        "id": "lB25l8eRC6oH",
        "colab_type": "code",
        "colab": {}
      },
      "source": [
        "def train(model=None):#train_images, train_labels, test_images, test_labels):\n",
        "\n",
        "    if model is None:\n",
        "        model = get_train_model()\n",
        "\n",
        "    log_dir = log_train + datetime.datetime.now().strftime(\"%Y%m%d-%H%M%S\")\n",
        "    tensorboard_callback = tf.keras.callbacks.TensorBoard(log_dir=log_train, histogram_freq=1)\n",
        "\n",
        "    history = model.fit(\n",
        "    train_data_gen,\n",
        "    steps_per_epoch=total_train // batch_size,\n",
        "    epochs=EPOCHS,\n",
        "    validation_data=val_data_gen,\n",
        "    validation_steps=total_val // batch_size,\n",
        "    callbacks=[tensorboard_callback])\n",
        "    \n",
        "    return model, history.history    "
      ],
      "execution_count": 107,
      "outputs": []
    },
    {
      "cell_type": "code",
      "metadata": {
        "id": "Y16uzTwOj_pV",
        "colab_type": "code",
        "colab": {}
      },
      "source": [
        "def prune(model=None):\n",
        "\n",
        "    if model is None:\n",
        "        model = get_train_model()\n",
        "\n",
        "    # Compute end step to finish pruning after 2 epochs.\n",
        "    batch_size = 128\n",
        "\n",
        "    # Define model for pruning.\n",
        "    pruning_params = {\n",
        "        'pruning_schedule': ConstantSparsity(pct_prune, 0), #target, begin step\n",
        "        'block_size': (1, 1),\n",
        "        'block_pooling_type': 'AVG'}\n",
        "\n",
        "    end_step = np.ceil(total_val / batch_size).astype(np.int32) * epochs\n",
        "\n",
        "    pruning_params = {\n",
        "      'pruning_schedule': tfmot.sparsity.keras.PolynomialDecay(initial_sparsity=0.0,\n",
        "                                                               final_sparsity=pct_prune,\n",
        "                                                               begin_step=0,\n",
        "                                                               end_step=end_step)}\n",
        "\n",
        "\n",
        "    model_for_pruning = prune_low_magnitude(model, **pruning_params)\n",
        "\n",
        "    # `prune_low_magnitude` requires a recompile.\n",
        "    model_for_pruning.compile(optimizer='adam',\n",
        "                  loss=tf.keras.losses.BinaryCrossentropy(from_logits=True),\n",
        "                  metrics=['accuracy'])\n",
        "\n",
        "    callbacks = [\n",
        "      tfmot.sparsity.keras.UpdatePruningStep(),\n",
        "      tfmot.sparsity.keras.PruningSummaries(log_dir=log_prune),\n",
        "    ]\n",
        "\n",
        "    history = model_for_pruning.fit(\n",
        "    train_data_gen,\n",
        "    steps_per_epoch=total_train // batch_size,\n",
        "    epochs=EPOCHS_PRUNE,\n",
        "    validation_data=val_data_gen,\n",
        "    validation_steps=total_val // batch_size,\n",
        "    callbacks=callbacks,\n",
        "    verbose=VERBOSE)\n",
        "\n",
        "    return model_for_pruning, history.history"
      ],
      "execution_count": 140,
      "outputs": []
    },
    {
      "cell_type": "code",
      "metadata": {
        "id": "XXHeW4BykROX",
        "colab_type": "code",
        "colab": {}
      },
      "source": [
        "EPOCHS = 1\n",
        "EPOCHS_PRUNE = 2\n",
        "VERBOSE = 1\n",
        "SHOW = 0\n",
        "pct_prune = 0.05"
      ],
      "execution_count": null,
      "outputs": []
    },
    {
      "cell_type": "code",
      "metadata": {
        "id": "npyS80v61WBZ",
        "colab_type": "code",
        "colab": {
          "base_uri": "https://localhost:8080/",
          "height": 1000
        },
        "outputId": "7c28b414-d0d2-4445-b879-0847618da88e"
      },
      "source": [
        "EPOCHS = 30\n",
        "model, dt = train()"
      ],
      "execution_count": 130,
      "outputs": [
        {
          "output_type": "stream",
          "text": [
            "Epoch 1/30\n",
            "7/7 [==============================] - 14s 2s/step - loss: 1.2434 - accuracy: 0.5183 - val_loss: 0.6971 - val_accuracy: 0.5073\n",
            "Epoch 2/30\n",
            "7/7 [==============================] - 14s 2s/step - loss: 0.6936 - accuracy: 0.4920 - val_loss: 0.6918 - val_accuracy: 0.5026\n",
            "Epoch 3/30\n",
            "7/7 [==============================] - 14s 2s/step - loss: 0.6924 - accuracy: 0.5011 - val_loss: 0.6893 - val_accuracy: 0.5000\n",
            "Epoch 4/30\n",
            "7/7 [==============================] - 14s 2s/step - loss: 0.6896 - accuracy: 0.4931 - val_loss: 0.6884 - val_accuracy: 0.5021\n",
            "Epoch 5/30\n",
            "7/7 [==============================] - 14s 2s/step - loss: 0.6855 - accuracy: 0.5034 - val_loss: 0.6795 - val_accuracy: 0.5057\n",
            "Epoch 6/30\n",
            "7/7 [==============================] - 14s 2s/step - loss: 0.6765 - accuracy: 0.5126 - val_loss: 0.6690 - val_accuracy: 0.5479\n",
            "Epoch 7/30\n",
            "7/7 [==============================] - 14s 2s/step - loss: 0.6671 - accuracy: 0.5333 - val_loss: 0.6613 - val_accuracy: 0.5708\n",
            "Epoch 8/30\n",
            "7/7 [==============================] - 14s 2s/step - loss: 0.6546 - accuracy: 0.5700 - val_loss: 0.6567 - val_accuracy: 0.6016\n",
            "Epoch 9/30\n",
            "7/7 [==============================] - 14s 2s/step - loss: 0.6931 - accuracy: 0.5562 - val_loss: 0.6575 - val_accuracy: 0.5536\n",
            "Epoch 10/30\n",
            "7/7 [==============================] - 14s 2s/step - loss: 0.6589 - accuracy: 0.5926 - val_loss: 0.6592 - val_accuracy: 0.5984\n",
            "Epoch 11/30\n",
            "7/7 [==============================] - 14s 2s/step - loss: 0.6516 - accuracy: 0.5642 - val_loss: 0.6557 - val_accuracy: 0.6115\n",
            "Epoch 12/30\n",
            "7/7 [==============================] - 14s 2s/step - loss: 0.6431 - accuracy: 0.5917 - val_loss: 0.6336 - val_accuracy: 0.6073\n",
            "Epoch 13/30\n",
            "7/7 [==============================] - 14s 2s/step - loss: 0.6339 - accuracy: 0.6216 - val_loss: 0.6235 - val_accuracy: 0.6047\n",
            "Epoch 14/30\n",
            "7/7 [==============================] - 14s 2s/step - loss: 0.6314 - accuracy: 0.6181 - val_loss: 0.6140 - val_accuracy: 0.6057\n",
            "Epoch 15/30\n",
            "7/7 [==============================] - 14s 2s/step - loss: 0.6165 - accuracy: 0.6296 - val_loss: 0.6087 - val_accuracy: 0.6427\n",
            "Epoch 16/30\n",
            "7/7 [==============================] - 14s 2s/step - loss: 0.6136 - accuracy: 0.6376 - val_loss: 0.6188 - val_accuracy: 0.6552\n",
            "Epoch 17/30\n",
            "7/7 [==============================] - 14s 2s/step - loss: 0.6070 - accuracy: 0.6479 - val_loss: 0.6019 - val_accuracy: 0.6307\n",
            "Epoch 18/30\n",
            "7/7 [==============================] - 14s 2s/step - loss: 0.6089 - accuracy: 0.6456 - val_loss: 0.6022 - val_accuracy: 0.6552\n",
            "Epoch 19/30\n",
            "7/7 [==============================] - 14s 2s/step - loss: 0.6169 - accuracy: 0.6365 - val_loss: 0.6043 - val_accuracy: 0.6547\n",
            "Epoch 20/30\n",
            "7/7 [==============================] - 14s 2s/step - loss: 0.6177 - accuracy: 0.6479 - val_loss: 0.5942 - val_accuracy: 0.6521\n",
            "Epoch 21/30\n",
            "7/7 [==============================] - 14s 2s/step - loss: 0.6223 - accuracy: 0.6317 - val_loss: 0.6285 - val_accuracy: 0.6953\n",
            "Epoch 22/30\n",
            "7/7 [==============================] - 14s 2s/step - loss: 0.6297 - accuracy: 0.6021 - val_loss: 0.6748 - val_accuracy: 0.6641\n",
            "Epoch 23/30\n",
            "7/7 [==============================] - 14s 2s/step - loss: 0.6293 - accuracy: 0.6422 - val_loss: 0.6160 - val_accuracy: 0.6068\n",
            "Epoch 24/30\n",
            "7/7 [==============================] - 14s 2s/step - loss: 0.6181 - accuracy: 0.6365 - val_loss: 0.6197 - val_accuracy: 0.6708\n",
            "Epoch 25/30\n",
            "7/7 [==============================] - 14s 2s/step - loss: 0.6107 - accuracy: 0.6227 - val_loss: 0.6617 - val_accuracy: 0.6875\n",
            "Epoch 26/30\n",
            "7/7 [==============================] - 14s 2s/step - loss: 0.6006 - accuracy: 0.6479 - val_loss: 0.6130 - val_accuracy: 0.6667\n",
            "Epoch 27/30\n",
            "7/7 [==============================] - 14s 2s/step - loss: 0.6058 - accuracy: 0.6422 - val_loss: 0.5953 - val_accuracy: 0.6542\n",
            "Epoch 28/30\n",
            "7/7 [==============================] - 14s 2s/step - loss: 0.5870 - accuracy: 0.6502 - val_loss: 0.6516 - val_accuracy: 0.6901\n",
            "Epoch 29/30\n",
            "7/7 [==============================] - 14s 2s/step - loss: 0.5836 - accuracy: 0.6697 - val_loss: 0.7079 - val_accuracy: 0.6641\n",
            "Epoch 30/30\n",
            "7/7 [==============================] - 14s 2s/step - loss: 0.5951 - accuracy: 0.6433 - val_loss: 0.7030 - val_accuracy: 0.6734\n"
          ],
          "name": "stdout"
        }
      ]
    },
    {
      "cell_type": "code",
      "metadata": {
        "id": "tJd9ZiaL_WC4",
        "colab_type": "code",
        "colab": {}
      },
      "source": [
        "path_cp = f\"training_cp-{EPOCHS:04d}.h5\"\n",
        "model.save(path_cp)\n",
        "\n",
        "loaded = tf.keras.models.load_model(path_cp)"
      ],
      "execution_count": 131,
      "outputs": []
    },
    {
      "cell_type": "code",
      "metadata": {
        "id": "jTRaNRlNOE7Z",
        "colab_type": "code",
        "colab": {
          "base_uri": "https://localhost:8080/",
          "height": 128
        },
        "outputId": "62be2f23-6e3b-4667-d926-8a8081664630"
      },
      "source": [
        "EPOCHS_PRUNE = 3\n",
        "pct_prune = 0.05\n",
        "mp, dp = prune(model)"
      ],
      "execution_count": 141,
      "outputs": [
        {
          "output_type": "stream",
          "text": [
            "Epoch 1/3\n",
            "7/7 [==============================] - 13s 2s/step - loss: 0.6004 - accuracy: 0.6663 - val_loss: 0.5468 - val_accuracy: 0.7141\n",
            "Epoch 2/3\n",
            "7/7 [==============================] - 13s 2s/step - loss: 0.5791 - accuracy: 0.6709 - val_loss: 0.5677 - val_accuracy: 0.6990\n",
            "Epoch 3/3\n",
            "7/7 [==============================] - 13s 2s/step - loss: 0.5524 - accuracy: 0.6800 - val_loss: 0.5470 - val_accuracy: 0.7385\n"
          ],
          "name": "stdout"
        }
      ]
    },
    {
      "cell_type": "code",
      "metadata": {
        "id": "_f1rIkulOEni",
        "colab_type": "code",
        "colab": {
          "base_uri": "https://localhost:8080/",
          "height": 128
        },
        "outputId": "c2509ded-c416-498d-bc4f-b8af78a4a7b9"
      },
      "source": [
        "pct_prune = 0.1\n",
        "mp, dp = prune(model)"
      ],
      "execution_count": 142,
      "outputs": [
        {
          "output_type": "stream",
          "text": [
            "Epoch 1/3\n",
            "7/7 [==============================] - 13s 2s/step - loss: 0.5985 - accuracy: 0.6732 - val_loss: 0.5752 - val_accuracy: 0.6359\n",
            "Epoch 2/3\n",
            "7/7 [==============================] - 13s 2s/step - loss: 0.5573 - accuracy: 0.6869 - val_loss: 0.5605 - val_accuracy: 0.7276\n",
            "Epoch 3/3\n",
            "7/7 [==============================] - 13s 2s/step - loss: 0.5431 - accuracy: 0.7122 - val_loss: 0.5512 - val_accuracy: 0.7172\n"
          ],
          "name": "stdout"
        }
      ]
    },
    {
      "cell_type": "code",
      "metadata": {
        "id": "u43q93aJOjs2",
        "colab_type": "code",
        "colab": {
          "base_uri": "https://localhost:8080/",
          "height": 128
        },
        "outputId": "082f0b6d-3066-49ab-f208-962bb2196a56"
      },
      "source": [
        "pct_prune = 0.2\n",
        "mp, dp = prune(model)"
      ],
      "execution_count": 143,
      "outputs": [
        {
          "output_type": "stream",
          "text": [
            "Epoch 1/3\n",
            "7/7 [==============================] - 13s 2s/step - loss: 0.6197 - accuracy: 0.6514 - val_loss: 0.5928 - val_accuracy: 0.6854\n",
            "Epoch 2/3\n",
            "7/7 [==============================] - 13s 2s/step - loss: 0.5815 - accuracy: 0.6640 - val_loss: 0.5756 - val_accuracy: 0.6938\n",
            "Epoch 3/3\n",
            "7/7 [==============================] - 13s 2s/step - loss: 0.5614 - accuracy: 0.6927 - val_loss: 0.5634 - val_accuracy: 0.7010\n"
          ],
          "name": "stdout"
        }
      ]
    },
    {
      "cell_type": "code",
      "metadata": {
        "id": "ayyMHgfkOgAp",
        "colab_type": "code",
        "colab": {
          "base_uri": "https://localhost:8080/",
          "height": 387
        },
        "outputId": "f4bc985b-aa4e-43c0-c6a4-a1efb13ceb8c"
      },
      "source": [
        "EPOCHS_PRUNE = 10\n",
        "pct_prune = 0.1\n",
        "mp, dp = prune(model)"
      ],
      "execution_count": 144,
      "outputs": [
        {
          "output_type": "stream",
          "text": [
            "Epoch 1/10\n",
            "7/7 [==============================] - 13s 2s/step - loss: 0.5787 - accuracy: 0.6560 - val_loss: 0.5719 - val_accuracy: 0.6964\n",
            "Epoch 2/10\n",
            "7/7 [==============================] - 13s 2s/step - loss: 0.5740 - accuracy: 0.6835 - val_loss: 0.5912 - val_accuracy: 0.7323\n",
            "Epoch 3/10\n",
            "7/7 [==============================] - 13s 2s/step - loss: 0.5571 - accuracy: 0.6915 - val_loss: 0.5484 - val_accuracy: 0.7339\n",
            "Epoch 4/10\n",
            "7/7 [==============================] - 13s 2s/step - loss: 0.5515 - accuracy: 0.6972 - val_loss: 0.5282 - val_accuracy: 0.7203\n",
            "Epoch 5/10\n",
            "7/7 [==============================] - 13s 2s/step - loss: 0.5207 - accuracy: 0.7110 - val_loss: 0.5359 - val_accuracy: 0.7281\n",
            "Epoch 6/10\n",
            "7/7 [==============================] - 13s 2s/step - loss: 0.5226 - accuracy: 0.7110 - val_loss: 0.5761 - val_accuracy: 0.6646\n",
            "Epoch 7/10\n",
            "7/7 [==============================] - 13s 2s/step - loss: 0.5661 - accuracy: 0.6950 - val_loss: 0.5349 - val_accuracy: 0.7448\n",
            "Epoch 8/10\n",
            "7/7 [==============================] - 13s 2s/step - loss: 0.5179 - accuracy: 0.7007 - val_loss: 0.5209 - val_accuracy: 0.7448\n",
            "Epoch 9/10\n",
            "7/7 [==============================] - 13s 2s/step - loss: 0.5002 - accuracy: 0.7339 - val_loss: 0.5332 - val_accuracy: 0.7427\n",
            "Epoch 10/10\n",
            "7/7 [==============================] - 13s 2s/step - loss: 0.5041 - accuracy: 0.7277 - val_loss: 0.5373 - val_accuracy: 0.7396\n"
          ],
          "name": "stdout"
        }
      ]
    },
    {
      "cell_type": "code",
      "metadata": {
        "id": "Sp4UVzyCOfOA",
        "colab_type": "code",
        "colab": {}
      },
      "source": [
        ""
      ],
      "execution_count": 144,
      "outputs": []
    },
    {
      "cell_type": "code",
      "metadata": {
        "id": "zL2g3MF2l57a",
        "colab_type": "code",
        "colab": {}
      },
      "source": [
        "%tensorboard --logdir /content/logs/train"
      ],
      "execution_count": null,
      "outputs": []
    },
    {
      "cell_type": "code",
      "metadata": {
        "id": "ej49WdmHvgm-",
        "colab_type": "code",
        "colab": {}
      },
      "source": [
        "%tensorboard --logdir /content/logs/prune"
      ],
      "execution_count": null,
      "outputs": []
    },
    {
      "cell_type": "code",
      "metadata": {
        "id": "72X2ZHg7Dg9N",
        "colab_type": "code",
        "colab": {}
      },
      "source": [
        ""
      ],
      "execution_count": null,
      "outputs": []
    }
  ]
}